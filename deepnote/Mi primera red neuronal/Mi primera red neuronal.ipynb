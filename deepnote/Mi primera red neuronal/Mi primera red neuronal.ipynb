{
  "cells": [
    {
      "cell_type": "code",
      "metadata": {
        "source_hash": "b21e26a4",
        "execution_start": 1743215797601,
        "execution_millis": 2523,
        "execution_context_id": "54962c5d-ed7e-4b9f-82cd-00152e5f776d",
        "cell_id": "1cbb8585c44e408091a1910bce79252c",
        "deepnote_cell_type": "code"
      },
      "source": "import numpy as np\nfrom keras import layers, models\nfrom keras.utils import to_categorical\nfrom keras.datasets import mnist\nimport matplotlib.pyplot as plt",
      "block_group": "1cbb8585c44e408091a1910bce79252c",
      "execution_count": 1,
      "outputs": [],
      "outputs_reference": null,
      "content_dependencies": null
    },
    {
      "cell_type": "code",
      "metadata": {
        "source_hash": "42dc594c",
        "execution_start": 1743215800171,
        "execution_millis": 150,
        "execution_context_id": "54962c5d-ed7e-4b9f-82cd-00152e5f776d",
        "cell_id": "f678cbf69182400f955baefe07ac6abb",
        "deepnote_cell_type": "code"
      },
      "source": "# Load data\n(train_data, train_labels), (test_data, test_labels) = mnist.load_data()",
      "block_group": "1adb7276c43349bb854b8139a21e0143",
      "execution_count": 2,
      "outputs": [],
      "outputs_reference": null,
      "content_dependencies": null
    },
    {
      "cell_type": "code",
      "metadata": {
        "source_hash": "1f120dba",
        "execution_start": 1743215800382,
        "execution_millis": 0,
        "execution_context_id": "54962c5d-ed7e-4b9f-82cd-00152e5f776d",
        "cell_id": "26eda95de7844842b2f87993ae60b3aa",
        "deepnote_cell_type": "code"
      },
      "source": "# We can see, that de dataset has 60000 images of size 28x28 pixels\ntrain_data.shape",
      "block_group": "6c13d146adda44648a9fd9642e2400cf",
      "execution_count": 3,
      "outputs": [],
      "outputs_reference": null,
      "content_dependencies": null
    },
    {
      "cell_type": "code",
      "metadata": {
        "source_hash": "ba4efc5e",
        "execution_start": 1743215800434,
        "execution_millis": 0,
        "execution_context_id": "54962c5d-ed7e-4b9f-82cd-00152e5f776d",
        "cell_id": "8eb359d5b6154ee1994edce3093c3be0",
        "deepnote_cell_type": "code"
      },
      "source": "# The image storage in the fist position is a 5 image\nplt.imshow(train_data[0])",
      "block_group": "5b9d4f96cb9f4096a0417f97aa6d5770",
      "execution_count": 4,
      "outputs": [],
      "outputs_reference": null,
      "content_dependencies": null
    },
    {
      "cell_type": "code",
      "metadata": {
        "source_hash": "534f8a81",
        "execution_start": 1743215800572,
        "execution_millis": 1,
        "execution_context_id": "54962c5d-ed7e-4b9f-82cd-00152e5f776d",
        "cell_id": "6d47e93e1bea42c89e2df4bc6d21f0a6",
        "deepnote_cell_type": "code"
      },
      "source": "# The label for the image in the first position\ntrain_labels[0]",
      "block_group": "83359069879e4d7fa3ad2c52eec4daae",
      "execution_count": 5,
      "outputs": [],
      "outputs_reference": null,
      "content_dependencies": null
    },
    {
      "cell_type": "code",
      "metadata": {
        "source_hash": "2da4d5c1",
        "execution_start": 1743215800631,
        "execution_millis": 4,
        "execution_context_id": "54962c5d-ed7e-4b9f-82cd-00152e5f776d",
        "cell_id": "8a054182f88e4b1dbb3c166d2668156b",
        "deepnote_cell_type": "code"
      },
      "source": "model = models.Sequential()\n\nmodel.add(layers.Dense(512, activation='relu', input_shape=(28*28,)))\nmodel.add(layers.Dense(10, activation='softmax'))",
      "block_group": "73b3effaa02043cb8201ae6d19049029",
      "execution_count": 6,
      "outputs": [],
      "outputs_reference": null,
      "content_dependencies": null
    },
    {
      "cell_type": "code",
      "metadata": {
        "source_hash": "2a84d0dd",
        "execution_start": 1743215800692,
        "execution_millis": 135,
        "execution_context_id": "54962c5d-ed7e-4b9f-82cd-00152e5f776d",
        "cell_id": "9673f5aa56c742bd97855ce4bd5255bb",
        "deepnote_cell_type": "code"
      },
      "source": "model.compile(optimizer='rmsprop', \n                loss='categorical_crossentropy', \n                metrics='accuracy') ",
      "block_group": "c9fd7a6361f049138f2cab96c386b3e4",
      "execution_count": 7,
      "outputs": [],
      "outputs_reference": null,
      "content_dependencies": null
    },
    {
      "cell_type": "code",
      "metadata": {
        "source_hash": "4e6a3b95",
        "execution_start": 1743215800892,
        "execution_millis": 0,
        "execution_context_id": "54962c5d-ed7e-4b9f-82cd-00152e5f776d",
        "cell_id": "01c3b973c143417698bfe70212973045",
        "deepnote_cell_type": "code"
      },
      "source": "model.summary()",
      "block_group": "ce6d474736704b6d91b0c37b70df8cc2",
      "execution_count": 8,
      "outputs": [],
      "outputs_reference": null,
      "content_dependencies": null
    },
    {
      "cell_type": "code",
      "metadata": {
        "source_hash": "13181020",
        "execution_start": 1743215800942,
        "execution_millis": 555,
        "execution_context_id": "54962c5d-ed7e-4b9f-82cd-00152e5f776d",
        "cell_id": "2a646c2f09e4469fbc31a44f690b49f5",
        "deepnote_cell_type": "code"
      },
      "source": "x_train =train_data.reshape((6000, 28*28))\nx_train = x_train.astype('float32')/255\n\nx_test =test_data.reshape((10000, 28*28))\nx_test = x_test.astype('float32')/255",
      "block_group": "1290b467cd9644e391652716ae1c56a3",
      "execution_count": 9,
      "outputs": [],
      "outputs_reference": null,
      "content_dependencies": null
    },
    {
      "cell_type": "markdown",
      "metadata": {
        "formattedRanges": [],
        "cell_id": "a4c0c7e6ce6d495eb8865a8a176befd3",
        "deepnote_cell_type": "text-cell-p"
      },
      "source": "",
      "block_group": "7306564bc8b649518a7eb9a0fb6ec7c3"
    },
    {
      "cell_type": "markdown",
      "metadata": {
        "formattedRanges": [],
        "cell_id": "30788f5e24064bb1ba2905a0bef8babf",
        "deepnote_cell_type": "text-cell-p"
      },
      "source": "",
      "block_group": "a2f0f3c2e4054bc79ccd35694ce76faa"
    },
    {
      "cell_type": "markdown",
      "metadata": {
        "formattedRanges": [],
        "cell_id": "7d27de44d0ae4dc8afab01dba89e83aa",
        "deepnote_cell_type": "text-cell-p"
      },
      "source": "",
      "block_group": "e07bb5be4c7a4840803a54b7fc40acf7"
    },
    {
      "cell_type": "markdown",
      "metadata": {
        "formattedRanges": [],
        "cell_id": "2d59d16f8621428c880dae3198f8af8f",
        "deepnote_cell_type": "text-cell-p"
      },
      "source": "",
      "block_group": "c06cac383c1b4ff1a0ed7c980a74b5ff"
    },
    {
      "cell_type": "markdown",
      "source": "<a style='text-decoration:none;line-height:16px;display:flex;color:#5B5B62;padding:10px;justify-content:end;' href='https://deepnote.com?utm_source=created-in-deepnote-cell&projectId=692b9aca-eea5-4654-b1f6-4b7a992041d6' target=\"_blank\">\n<img alt='Created in deepnote.com' style='display:inline;max-height:16px;margin:0px;margin-right:7.5px;' src='data:image/svg+xml;base64,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' > </img>\nCreated in <span style='font-weight:600;margin-left:4px;'>Deepnote</span></a>",
      "metadata": {
        "created_in_deepnote_cell": true,
        "deepnote_cell_type": "markdown"
      }
    }
  ],
  "nbformat": 4,
  "nbformat_minor": 0,
  "metadata": {
    "deepnote_persisted_session": {
      "createdAt": "2025-03-29T01:31:21.191Z"
    },
    "deepnote_notebook_id": "d8f362aa59b54a56b4ed6a4c3922103d"
  }
}